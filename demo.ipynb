{
 "cells": [
  {
   "cell_type": "markdown",
   "source": [
    "Code written by Margot Wagner\n",
    "Last updated 09/11/21"
   ],
   "metadata": {}
  },
  {
   "cell_type": "code",
   "execution_count": 19,
   "source": [
    "import requests\n",
    "import ipywidgets as widgets\n",
    "from ipywidgets import interact, interactive\n",
    "from IPython.display import display\n",
    "import pandas as pd"
   ],
   "outputs": [],
   "metadata": {}
  },
  {
   "cell_type": "markdown",
   "source": [
    "Every patient has an existing database containing their current prescriptions and prescription information."
   ],
   "metadata": {}
  },
  {
   "cell_type": "code",
   "execution_count": 2,
   "source": [
    "prescriptions = ['DICLOFENAC', 'GABAPENTIN', 'DULOXETINE']\n",
    "reasons = ['pain relief', 'nerve pain', 'antidepressant']\n",
    "physician = ['chronic pain physician', 'primary care physician', 'psychiatrist']\n",
    "\n",
    "# fields of interest\n",
    "fields = ['generic_name', 'description', 'openfda.pharm_class_epc', 'how_supplied', 'drug_interactions', 'indications_and_usage', 'reason_for_prescription', 'prescriber']                                                                      \n",
    "\n",
    "# initialize drug info dataframe\n",
    "drug_df = pd.DataFrame(columns = fields)\n",
    "\n",
    "# populate dataframe\n",
    "for i in range(len(prescriptions)):\n",
    "    # access prescription in openFDA\n",
    "    URL = 'https://api.fda.gov/drug/label.json?api_key=M2JwidRocyUdc8gvmAKOpXKa7eIoX43tSWaN2Hip&search=openfda.generic_name.exact:{}&limit=1'.format(prescriptions[i])\n",
    "    data = requests.get(URL).json()\n",
    "\n",
    "    # initialize fields of interest (FOI) for given prescription\n",
    "    drug_info = [prescriptions[i]]\n",
    "\n",
    "    for result in data.get('results', []):\n",
    "        # FOIs\n",
    "        for f in fields[1:-2]:\n",
    "\n",
    "            # if openFDA has FOI, populate it, otherwise input ND (no data)\n",
    "            # normal category\n",
    "            if 'openfda.' in f:\n",
    "                # subsearch req for pharm class\n",
    "                subsearch = f.split('.')[1]\n",
    "\n",
    "                if subsearch in result['openfda'].keys():\n",
    "                    search = result['openfda'][subsearch]\n",
    "                    drug_info.append(search)\n",
    "                else:\n",
    "                    drug_info.append('ND')\n",
    "            elif f in result.keys():\n",
    "                search = result[f]\n",
    "                drug_info.append(search)\n",
    "            else:\n",
    "                drug_info.append('ND')\n",
    "\n",
    "        # add prescription information\n",
    "        drug_info.append(reasons[i])\n",
    "        drug_info.append(physician[i])\n",
    "\n",
    "        # convert to series\n",
    "        series = pd.Series(drug_info, index = drug_df.columns)\n",
    "        drug_df = drug_df.append(series, ignore_index=True)\n",
    "        #drug_df.append(drug_info)\n",
    "\n",
    "\n",
    "\n"
   ],
   "outputs": [],
   "metadata": {}
  },
  {
   "cell_type": "code",
   "execution_count": 3,
   "source": [
    "drug_df\n"
   ],
   "outputs": [
    {
     "output_type": "execute_result",
     "data": {
      "text/html": [
       "<div>\n",
       "<style scoped>\n",
       "    .dataframe tbody tr th:only-of-type {\n",
       "        vertical-align: middle;\n",
       "    }\n",
       "\n",
       "    .dataframe tbody tr th {\n",
       "        vertical-align: top;\n",
       "    }\n",
       "\n",
       "    .dataframe thead th {\n",
       "        text-align: right;\n",
       "    }\n",
       "</style>\n",
       "<table border=\"1\" class=\"dataframe\">\n",
       "  <thead>\n",
       "    <tr style=\"text-align: right;\">\n",
       "      <th></th>\n",
       "      <th>generic_name</th>\n",
       "      <th>description</th>\n",
       "      <th>openfda.pharm_class_epc</th>\n",
       "      <th>how_supplied</th>\n",
       "      <th>drug_interactions</th>\n",
       "      <th>indications_and_usage</th>\n",
       "      <th>reason_for_prescription</th>\n",
       "      <th>prescriber</th>\n",
       "    </tr>\n",
       "  </thead>\n",
       "  <tbody>\n",
       "    <tr>\n",
       "      <th>0</th>\n",
       "      <td>DICLOFENAC</td>\n",
       "      <td>ND</td>\n",
       "      <td>ND</td>\n",
       "      <td>ND</td>\n",
       "      <td>ND</td>\n",
       "      <td>[Use(s)  for the temporary relief of arthriti...</td>\n",
       "      <td>pain relief</td>\n",
       "      <td>chronic pain physician</td>\n",
       "    </tr>\n",
       "    <tr>\n",
       "      <th>1</th>\n",
       "      <td>GABAPENTIN</td>\n",
       "      <td>[DESCRIPTION SECTION Gabapentin tablets, USP a...</td>\n",
       "      <td>[Anti-epileptic Agent [EPC]]</td>\n",
       "      <td>[HOW SUPPLIED SECTION Gabapentin Tablets, USP ...</td>\n",
       "      <td>ND</td>\n",
       "      <td>[INDICATIONS &amp; USAGE SECTION Postherpetic Neur...</td>\n",
       "      <td>nerve pain</td>\n",
       "      <td>primary care physician</td>\n",
       "    </tr>\n",
       "    <tr>\n",
       "      <th>2</th>\n",
       "      <td>DULOXETINE</td>\n",
       "      <td>[11 DESCRIPTION Duloxetine hydrochloride, USP ...</td>\n",
       "      <td>ND</td>\n",
       "      <td>[16 HOW SUPPLIED/STORAGE AND HANDLING Product:...</td>\n",
       "      <td>[7 DRUG INTERACTIONS Both CYP1A2 and CYP2D6 ar...</td>\n",
       "      <td>[1 INDICATIONS &amp; USAGE Duloxetine delayed-rele...</td>\n",
       "      <td>antidepressant</td>\n",
       "      <td>psychiatrist</td>\n",
       "    </tr>\n",
       "  </tbody>\n",
       "</table>\n",
       "</div>"
      ],
      "text/plain": [
       "  generic_name                                        description  \\\n",
       "0   DICLOFENAC                                                 ND   \n",
       "1   GABAPENTIN  [DESCRIPTION SECTION Gabapentin tablets, USP a...   \n",
       "2   DULOXETINE  [11 DESCRIPTION Duloxetine hydrochloride, USP ...   \n",
       "\n",
       "        openfda.pharm_class_epc  \\\n",
       "0                            ND   \n",
       "1  [Anti-epileptic Agent [EPC]]   \n",
       "2                            ND   \n",
       "\n",
       "                                        how_supplied  \\\n",
       "0                                                 ND   \n",
       "1  [HOW SUPPLIED SECTION Gabapentin Tablets, USP ...   \n",
       "2  [16 HOW SUPPLIED/STORAGE AND HANDLING Product:...   \n",
       "\n",
       "                                   drug_interactions  \\\n",
       "0                                                 ND   \n",
       "1                                                 ND   \n",
       "2  [7 DRUG INTERACTIONS Both CYP1A2 and CYP2D6 ar...   \n",
       "\n",
       "                               indications_and_usage reason_for_prescription  \\\n",
       "0  [Use(s)  for the temporary relief of arthriti...             pain relief   \n",
       "1  [INDICATIONS & USAGE SECTION Postherpetic Neur...              nerve pain   \n",
       "2  [1 INDICATIONS & USAGE Duloxetine delayed-rele...          antidepressant   \n",
       "\n",
       "               prescriber  \n",
       "0  chronic pain physician  \n",
       "1  primary care physician  \n",
       "2            psychiatrist  "
      ]
     },
     "metadata": {},
     "execution_count": 3
    }
   ],
   "metadata": {}
  },
  {
   "cell_type": "code",
   "execution_count": 25,
   "source": [
    "new_drug = widgets.Text(\n",
    "    placeholder='Enter reason',\n",
    "    description='Reason for prescription:',\n",
    "    disabled=False,\n",
    "    style=style\n",
    ")\n",
    "display(new_reason)\n",
    "\n",
    "new_reason = widgets.Text(\n",
    "    #value='Hello World',\n",
    "    placeholder='Enter reason',\n",
    "    description='Reason for prescription:',\n",
    "    disabled=False,\n",
    "    style=style\n",
    ")\n",
    "display(new_reason)\n",
    "\n",
    "new_physician = widgets.Text(\n",
    "    #value='Hello World',\n",
    "    placeholder='Enter name',\n",
    "    description='Prescribing physician:',\n",
    "    disabled=False,\n",
    "    style=style\n",
    ")\n",
    "display(new_physician)"
   ],
   "outputs": [
    {
     "output_type": "display_data",
     "data": {
      "application/vnd.jupyter.widget-view+json": {
       "version_major": 2,
       "version_minor": 0,
       "model_id": "7196821f16164e42a9eabb337b158eb2"
      },
      "text/plain": [
       "Text(value='Name')"
      ]
     },
     "metadata": {}
    }
   ],
   "metadata": {}
  },
  {
   "cell_type": "code",
   "execution_count": null,
   "source": [],
   "outputs": [],
   "metadata": {}
  },
  {
   "cell_type": "code",
   "execution_count": null,
   "source": [
    "name = widgets.Text(value='Name')\n",
    "display(name)"
   ],
   "outputs": [],
   "metadata": {}
  },
  {
   "cell_type": "code",
   "execution_count": 26,
   "source": [
    "print(name.value)"
   ],
   "outputs": [
    {
     "output_type": "stream",
     "name": "stdout",
     "text": [
      "help\n"
     ]
    }
   ],
   "metadata": {}
  },
  {
   "cell_type": "code",
   "execution_count": 8,
   "source": [
    "new_reason = widgets.Text(\n",
    "    #value='Hello World',\n",
    "    placeholder='Enter reason',\n",
    "    description='Reason for prescription:',\n",
    "    disabled=False,\n",
    "    style=style\n",
    ")\n",
    "display(new_reason)\n",
    "\n",
    "new_physician = widgets.Text(\n",
    "    #value='Hello World',\n",
    "    placeholder='Enter name',\n",
    "    description='Prescribing physician:',\n",
    "    disabled=False,\n",
    "    style=style\n",
    ")\n",
    "display(new_physician)"
   ],
   "outputs": [
    {
     "output_type": "execute_result",
     "data": {
      "text/plain": [
       "\"\\nURL = 'https://api.fda.gov/drug/label.json?api_key=M2JwidRocyUdc8gvmAKOpXKa7eIoX43tSWaN2Hip&search=drug_interactions:caffeine&limit=5'\\n\\ndata = requests.get(URL).json()\\n\\nfor result in data.get('results', []):\\n  print(result)\\n  \""
      ]
     },
     "metadata": {},
     "execution_count": 8
    }
   ],
   "metadata": {}
  }
 ],
 "metadata": {
  "orig_nbformat": 4,
  "language_info": {
   "name": "python",
   "version": "3.8.5",
   "mimetype": "text/x-python",
   "codemirror_mode": {
    "name": "ipython",
    "version": 3
   },
   "pygments_lexer": "ipython3",
   "nbconvert_exporter": "python",
   "file_extension": ".py"
  },
  "kernelspec": {
   "name": "python3",
   "display_name": "Python 3.8.5 64-bit ('base': conda)"
  },
  "interpreter": {
   "hash": "98f15700a9be0b03ececd51678b6b5704dfd78fdf827979b28e9c3a431ae808e"
  }
 },
 "nbformat": 4,
 "nbformat_minor": 2
}