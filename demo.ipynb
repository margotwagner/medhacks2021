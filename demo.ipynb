{
 "cells": [
  {
   "cell_type": "markdown",
   "source": [
    "Code written by Margot Wagner\n",
    "Last updated 09/11/21"
   ],
   "metadata": {}
  },
  {
   "cell_type": "code",
   "execution_count": 19,
   "source": [
    "import requests\n",
    "import ipywidgets as widgets\n",
    "from ipywidgets import interact, interactive\n",
    "from IPython.display import display\n",
    "import pandas as pd"
   ],
   "outputs": [],
   "metadata": {}
  },
  {
   "cell_type": "markdown",
   "source": [
    "Every patient has an existing database containing their current prescriptions and prescription information."
   ],
   "metadata": {}
  },
  {
   "cell_type": "code",
   "execution_count": 59,
   "source": [
    "def drug_info(generic_name, reason_for_prescription, prescriber, FOIs):\n",
    "    \"\"\"\n",
    "    Given a certain drug, this function creates a series with the requested fields of interest (FOI)\n",
    "\n",
    "    :param generic_name: drug's generic name\n",
    "    :param reason_for_prescription: reason for prescription of drug \n",
    "    :param prescriber: prescriber name/info\n",
    "\n",
    "    :return Series: series containing FOIs for drug of interest\n",
    "    \"\"\"\n",
    "    \n",
    "    # fields of interest\n",
    "    fields = FOIs \n",
    "\n",
    "    # access prescription in openFDA\n",
    "    URL = 'https://api.fda.gov/drug/label.json?api_key=M2JwidRocyUdc8gvmAKOpXKa7eIoX43tSWaN2Hip&search=openfda.generic_name.exact:{}&limit=1'.format(generic_name.upper())\n",
    "    data = requests.get(URL).json()\n",
    "\n",
    "    # initialize fields of interest (FOI) for given prescription\n",
    "    drug_info = [generic_name.upper()]\n",
    "\n",
    "    for result in data.get('results', []):\n",
    "        # FOIs\n",
    "        for f in fields[1:-2]:\n",
    "\n",
    "            # if openFDA has FOI, populate it, otherwise input ND (no data)\n",
    "            # normal category\n",
    "            if 'openfda.' in f:\n",
    "                # subsearch req for pharm class\n",
    "                subsearch = f.split('.')[1]\n",
    "\n",
    "                if subsearch in result['openfda'].keys():\n",
    "                    search = result['openfda'][subsearch]\n",
    "                    drug_info.append(search)\n",
    "                else:\n",
    "                    drug_info.append('ND')\n",
    "            elif f in result.keys():\n",
    "                search = result[f]\n",
    "                drug_info.append(search)\n",
    "            else:\n",
    "                drug_info.append('ND')\n",
    "        \n",
    "        # add prescription information\n",
    "        drug_info.append(reason_for_prescription)\n",
    "        drug_info.append(prescriber)\n",
    "\n",
    "        # convert to series\n",
    "        series = pd.Series(drug_info, index = fields)\n",
    "\n",
    "    return series\n",
    "    "
   ],
   "outputs": [],
   "metadata": {}
  },
  {
   "cell_type": "markdown",
   "source": [
    "Populate user's drug database with existing prescriptions."
   ],
   "metadata": {}
  },
  {
   "cell_type": "code",
   "execution_count": 60,
   "source": [
    "prescriptions = ['DICLOFENAC', 'GABAPENTIN', 'DULOXETINE']\n",
    "reasons = ['pain relief', 'nerve pain', 'antidepressant']\n",
    "physician = ['chronic pain physician', 'primary care physician', 'psychiatrist']\n",
    "fields = ['generic_name', 'description', 'openfda.pharm_class_epc', 'how_supplied', 'drug_interactions', 'indications_and_usage', 'reason_for_prescription', 'prescriber']  # fields of interest                                                                    \n",
    "\n",
    "# initialize drug info dataframe\n",
    "drug_df = pd.DataFrame(columns = fields)\n",
    "\n",
    "# populate dataframe\n",
    "for i in range(len(prescriptions)):\n",
    "    drug_series = drug_info(prescriptions[i], reasons[i], physician[i], fields)\n",
    "    drug_df = drug_df.append(drug_series, ignore_index=True)\n"
   ],
   "outputs": [],
   "metadata": {}
  },
  {
   "cell_type": "code",
   "execution_count": 61,
   "source": [
    "drug_df\n"
   ],
   "outputs": [
    {
     "output_type": "execute_result",
     "data": {
      "text/html": [
       "<div>\n",
       "<style scoped>\n",
       "    .dataframe tbody tr th:only-of-type {\n",
       "        vertical-align: middle;\n",
       "    }\n",
       "\n",
       "    .dataframe tbody tr th {\n",
       "        vertical-align: top;\n",
       "    }\n",
       "\n",
       "    .dataframe thead th {\n",
       "        text-align: right;\n",
       "    }\n",
       "</style>\n",
       "<table border=\"1\" class=\"dataframe\">\n",
       "  <thead>\n",
       "    <tr style=\"text-align: right;\">\n",
       "      <th></th>\n",
       "      <th>generic_name</th>\n",
       "      <th>description</th>\n",
       "      <th>openfda.pharm_class_epc</th>\n",
       "      <th>how_supplied</th>\n",
       "      <th>drug_interactions</th>\n",
       "      <th>indications_and_usage</th>\n",
       "      <th>reason_for_prescription</th>\n",
       "      <th>prescriber</th>\n",
       "    </tr>\n",
       "  </thead>\n",
       "  <tbody>\n",
       "    <tr>\n",
       "      <th>0</th>\n",
       "      <td>DICLOFENAC</td>\n",
       "      <td>ND</td>\n",
       "      <td>ND</td>\n",
       "      <td>ND</td>\n",
       "      <td>ND</td>\n",
       "      <td>[Use(s)  for the temporary relief of arthriti...</td>\n",
       "      <td>pain relief</td>\n",
       "      <td>chronic pain physician</td>\n",
       "    </tr>\n",
       "    <tr>\n",
       "      <th>1</th>\n",
       "      <td>GABAPENTIN</td>\n",
       "      <td>[DESCRIPTION SECTION Gabapentin tablets, USP a...</td>\n",
       "      <td>[Anti-epileptic Agent [EPC]]</td>\n",
       "      <td>[HOW SUPPLIED SECTION Gabapentin Tablets, USP ...</td>\n",
       "      <td>ND</td>\n",
       "      <td>[INDICATIONS &amp; USAGE SECTION Postherpetic Neur...</td>\n",
       "      <td>nerve pain</td>\n",
       "      <td>primary care physician</td>\n",
       "    </tr>\n",
       "    <tr>\n",
       "      <th>2</th>\n",
       "      <td>DULOXETINE</td>\n",
       "      <td>[11 DESCRIPTION Duloxetine hydrochloride, USP ...</td>\n",
       "      <td>ND</td>\n",
       "      <td>[16 HOW SUPPLIED/STORAGE AND HANDLING Product:...</td>\n",
       "      <td>[7 DRUG INTERACTIONS Both CYP1A2 and CYP2D6 ar...</td>\n",
       "      <td>[1 INDICATIONS &amp; USAGE Duloxetine delayed-rele...</td>\n",
       "      <td>antidepressant</td>\n",
       "      <td>psychiatrist</td>\n",
       "    </tr>\n",
       "  </tbody>\n",
       "</table>\n",
       "</div>"
      ],
      "text/plain": [
       "  generic_name                                        description  \\\n",
       "0   DICLOFENAC                                                 ND   \n",
       "1   GABAPENTIN  [DESCRIPTION SECTION Gabapentin tablets, USP a...   \n",
       "2   DULOXETINE  [11 DESCRIPTION Duloxetine hydrochloride, USP ...   \n",
       "\n",
       "        openfda.pharm_class_epc  \\\n",
       "0                            ND   \n",
       "1  [Anti-epileptic Agent [EPC]]   \n",
       "2                            ND   \n",
       "\n",
       "                                        how_supplied  \\\n",
       "0                                                 ND   \n",
       "1  [HOW SUPPLIED SECTION Gabapentin Tablets, USP ...   \n",
       "2  [16 HOW SUPPLIED/STORAGE AND HANDLING Product:...   \n",
       "\n",
       "                                   drug_interactions  \\\n",
       "0                                                 ND   \n",
       "1                                                 ND   \n",
       "2  [7 DRUG INTERACTIONS Both CYP1A2 and CYP2D6 ar...   \n",
       "\n",
       "                               indications_and_usage reason_for_prescription  \\\n",
       "0  [Use(s)  for the temporary relief of arthriti...             pain relief   \n",
       "1  [INDICATIONS & USAGE SECTION Postherpetic Neur...              nerve pain   \n",
       "2  [1 INDICATIONS & USAGE Duloxetine delayed-rele...          antidepressant   \n",
       "\n",
       "               prescriber  \n",
       "0  chronic pain physician  \n",
       "1  primary care physician  \n",
       "2            psychiatrist  "
      ]
     },
     "metadata": {},
     "execution_count": 61
    }
   ],
   "metadata": {}
  },
  {
   "cell_type": "code",
   "execution_count": 62,
   "source": [
    "# Add clonazepam (can be something else)\n",
    "style = {'description_width': 'initial'} # fit description length\n",
    "\n",
    "new_drug = widgets.Text(\n",
    "    value = 'clonazepam',\n",
    "    placeholder='Enter generic name',\n",
    "    description='New prescription:',\n",
    "    disabled=False,\n",
    "    style=style\n",
    ")\n",
    "display(new_drug)\n",
    "\n",
    "new_reason = widgets.Text(\n",
    "    value = 'panic attacks',\n",
    "    placeholder='Enter reason',\n",
    "    description='Reason for prescription:',\n",
    "    disabled=False,\n",
    "    style=style\n",
    ")\n",
    "display(new_reason)\n",
    "\n",
    "new_physician = widgets.Text(\n",
    "    value = 'psychiatrist',\n",
    "    placeholder='Enter name',\n",
    "    description='Prescribing physician:',\n",
    "    disabled=False,\n",
    "    style=style\n",
    ")\n",
    "display(new_physician)"
   ],
   "outputs": [
    {
     "output_type": "display_data",
     "data": {
      "application/vnd.jupyter.widget-view+json": {
       "version_major": 2,
       "version_minor": 0,
       "model_id": "b838b07bb722471d871a84bd0b161cc9"
      },
      "text/plain": [
       "Text(value='clonazepam', description='New prescription:', placeholder='Enter generic name', style=DescriptionS…"
      ]
     },
     "metadata": {}
    },
    {
     "output_type": "display_data",
     "data": {
      "application/vnd.jupyter.widget-view+json": {
       "version_major": 2,
       "version_minor": 0,
       "model_id": "2fa02443007445bfa9a15e71ec8070cf"
      },
      "text/plain": [
       "Text(value='panic attacks', description='Reason for prescription:', placeholder='Enter reason', style=Descript…"
      ]
     },
     "metadata": {}
    },
    {
     "output_type": "display_data",
     "data": {
      "application/vnd.jupyter.widget-view+json": {
       "version_major": 2,
       "version_minor": 0,
       "model_id": "519d87447fb647c387219478ceb6aa72"
      },
      "text/plain": [
       "Text(value='psychiatrist', description='Prescribing physician:', placeholder='Enter name', style=DescriptionSt…"
      ]
     },
     "metadata": {}
    }
   ],
   "metadata": {}
  },
  {
   "cell_type": "code",
   "execution_count": 77,
   "source": [
    "print(\"Attempting to add {} (prescribed by {} for {})\".format(new_drug.value, new_physician.value, new_reason.value))"
   ],
   "outputs": [
    {
     "output_type": "stream",
     "name": "stdout",
     "text": [
      "Attempting to add clonazepam (prescribed by psychiatrist for insomnia)\n"
     ]
    }
   ],
   "metadata": {}
  },
  {
   "cell_type": "code",
   "execution_count": 78,
   "source": [
    "new_series = drug_info(new_drug.value, new_reason.value, new_physician.value, fields)\n",
    "new_series"
   ],
   "outputs": [
    {
     "output_type": "execute_result",
     "data": {
      "text/plain": [
       "generic_name                                                      CLONAZEPAM\n",
       "description                [DESCRIPTION Clonazepam, a benzodiazepine, is ...\n",
       "openfda.pharm_class_epc                               [Benzodiazepine [EPC]]\n",
       "how_supplied               [HOW SUPPLIED Clonazepam tablets USP 0.5 mg ar...\n",
       "drug_interactions          [Drug Interactions: Effect of Concomitant Use ...\n",
       "indications_and_usage      [INDICATIONS AND USAGE Seizure Disorders: Clon...\n",
       "reason_for_prescription                                             insomnia\n",
       "prescriber                                                      psychiatrist\n",
       "dtype: object"
      ]
     },
     "metadata": {},
     "execution_count": 78
    }
   ],
   "metadata": {}
  },
  {
   "cell_type": "code",
   "execution_count": 79,
   "source": [
    "# Check for drug interactions\n",
    "interactions = new_series['drug_interactions'][0].upper()\n",
    "\n",
    "# search for existing drugs in drug interactions\n",
    "for p in prescriptions:\n",
    "    if p in interactions:\n",
    "        print(\"WARNING: {} MAY INTERACT WITH {}. PLEASE REVIEW\".format(p, new_drug.value))\n"
   ],
   "outputs": [],
   "metadata": {}
  },
  {
   "cell_type": "code",
   "execution_count": 83,
   "source": [
    "# Check for deprescriptions for all drugs\n",
    "drug_class = new_series['openfda.pharm_class_epc'][0].upper()\n",
    "reason = new_series['reason_for_prescription'].upper()\n",
    "\n",
    "# check pharm_class_epc to see if it matches big 5\n",
    "# if so, follow that algorithm (https://deprescribing.org/resources/deprescribing-guidelines-algorithms/)\n",
    "if 'BENZODIAZEPINE' in drug_class:\n",
    "    print('RUNNING BENZODIAZEPINE DEPRESCRIPTION ALGORITHM')\n",
    "    # benzo deprescription algo\n",
    "    if 'INSOMNIA' in reason:\n",
    "        print('DEPRESCRIBING MAY BE RECOMMENDED. CLICK TO REVIEW.')\n",
    "    else:\n",
    "        print('DEPRESCRIBING NOT RECOMMENDED')\n",
    "elif 'PROTON PUMP INHIBITOR' in drug_class:\n",
    "    print('RUNNING PROTON PUMP INHIBITOR DEPRESCRIPTION ALGORITHM')\n",
    "elif 'ANTIHYPERGLYCEMIC' in drug_class:\n",
    "    print('RUNNING ANTIHYPERGLYCEMIC DEPRESCRIPTION ALGORITHM')\n",
    "elif 'ANTIPSYCHOTIC' in drug_class:\n",
    "    print('RUNNING ANTIPSYCHOTIC DEPRESCRIPTION ALGORITHM')\n",
    "elif 'CHOLINESTERASE INHIBITORS' in drug_class:\n",
    "    print('RUNNING CHOLINESTERASE INHIBITORS DEPRESCRIPTION ALGORITHM')"
   ],
   "outputs": [
    {
     "output_type": "stream",
     "name": "stdout",
     "text": [
      "RUNNING BENZODIAZEPINE DEPRESCRIPTION ALGORITHM\n",
      "DEPRESCRIBING MAY BE RECOMMENDED. CLICK TO REVIEW.\n"
     ]
    }
   ],
   "metadata": {}
  },
  {
   "cell_type": "code",
   "execution_count": null,
   "source": [],
   "outputs": [],
   "metadata": {}
  }
 ],
 "metadata": {
  "orig_nbformat": 4,
  "language_info": {
   "name": "python",
   "version": "3.8.5",
   "mimetype": "text/x-python",
   "codemirror_mode": {
    "name": "ipython",
    "version": 3
   },
   "pygments_lexer": "ipython3",
   "nbconvert_exporter": "python",
   "file_extension": ".py"
  },
  "kernelspec": {
   "name": "python3",
   "display_name": "Python 3.8.5 64-bit ('base': conda)"
  },
  "interpreter": {
   "hash": "98f15700a9be0b03ececd51678b6b5704dfd78fdf827979b28e9c3a431ae808e"
  }
 },
 "nbformat": 4,
 "nbformat_minor": 2
}